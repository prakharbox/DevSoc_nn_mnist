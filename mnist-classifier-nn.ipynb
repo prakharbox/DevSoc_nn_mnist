{
 "cells": [
  {
   "cell_type": "code",
   "execution_count": 1,
   "id": "6dd979c7",
   "metadata": {
    "_cell_guid": "5e23a435-43cd-40dd-bd48-04563b692753",
    "_uuid": "043014c0-2207-4e54-970f-414c76a21a03",
    "collapsed": false,
    "execution": {
     "iopub.execute_input": "2024-08-11T11:00:31.720851Z",
     "iopub.status.busy": "2024-08-11T11:00:31.719981Z",
     "iopub.status.idle": "2024-08-11T11:01:11.230879Z",
     "shell.execute_reply": "2024-08-11T11:01:11.229377Z"
    },
    "jupyter": {
     "outputs_hidden": false
    },
    "papermill": {
     "duration": 39.52131,
     "end_time": "2024-08-11T11:01:11.235466",
     "exception": false,
     "start_time": "2024-08-11T11:00:31.714156",
     "status": "completed"
    },
    "tags": []
   },
   "outputs": [
    {
     "name": "stdout",
     "output_type": "stream",
     "text": [
      "Epoch 1/20, Loss: 0.0329\n",
      "Epoch 2/20, Loss: 0.0158\n",
      "Epoch 3/20, Loss: 0.0092\n",
      "Epoch 4/20, Loss: 0.0072\n",
      "Epoch 5/20, Loss: 0.0063\n",
      "Epoch 6/20, Loss: 0.0058\n",
      "Epoch 7/20, Loss: 0.0055\n",
      "Epoch 8/20, Loss: 0.0052\n",
      "Epoch 9/20, Loss: 0.0050\n",
      "Epoch 10/20, Loss: 0.0048\n",
      "Epoch 11/20, Loss: 0.0047\n",
      "Epoch 12/20, Loss: 0.0045\n",
      "Epoch 13/20, Loss: 0.0044\n",
      "Epoch 14/20, Loss: 0.0043\n",
      "Epoch 15/20, Loss: 0.0042\n",
      "Epoch 16/20, Loss: 0.0041\n",
      "Epoch 17/20, Loss: 0.0040\n",
      "Epoch 18/20, Loss: 0.0039\n",
      "Epoch 19/20, Loss: 0.0038\n",
      "Epoch 20/20, Loss: 0.0037\n"
     ]
    }
   ],
   "source": [
    "import numpy as np\n",
    "import pandas as pd\n",
    "import pickle\n",
    "from sklearn.model_selection import train_test_split\n",
    "\n",
    "class Layer:\n",
    "    def forward(self, inputs):\n",
    "        \"\"\"\n",
    "        Compute the forward pass.\n",
    "        \"\"\"\n",
    "        raise NotImplementedError\n",
    "\n",
    "    def backward(self, gradient):\n",
    "        \"\"\"\n",
    "        Compute the backward pass.\n",
    "        \"\"\"\n",
    "        raise NotImplementedError\n",
    "\n",
    "class Linear(Layer):\n",
    "    \"\"\"Fully connected layer.\"\"\"\n",
    "\n",
    "    def __init__(self, input_size, output_size):\n",
    "        \"\"\"\n",
    "        Initialize the layer.\n",
    "        \"\"\"\n",
    "        self.weights = np.random.randn(input_size, output_size) * 0.01\n",
    "        self.biases = np.zeros((1, output_size))\n",
    "        self.inputs = None\n",
    "        self.gradients = {'weights': None, 'biases': None}\n",
    "\n",
    "    def forward(self, inputs):\n",
    "        \"\"\"Compute forward pass.\"\"\"\n",
    "        self.inputs = inputs\n",
    "        return np.dot(inputs, self.weights) + self.biases\n",
    "\n",
    "    def backward(self, gradient):\n",
    "        \"\"\"Compute backward pass.\"\"\"\n",
    "        self.gradients['weights'] = np.dot(self.inputs.T, gradient)\n",
    "        self.gradients['biases'] = np.sum(gradient, axis=0, keepdims=True)\n",
    "        return np.dot(gradient, self.weights.T)\n",
    "\n",
    "class ReLU(Layer):\n",
    "    \"\"\"ReLU activation layer.\"\"\"\n",
    "    \n",
    "    def __init__(self):\n",
    "        self.inputs = None\n",
    "        \n",
    "    def forward(self, inputs):\n",
    "        \"\"\"Apply ReLU activation.\"\"\"\n",
    "        self.inputs = inputs\n",
    "        return np.maximum(0, inputs)\n",
    "\n",
    "    def backward(self, gradient):\n",
    "        \"\"\"Compute gradient of ReLU.\"\"\"\n",
    "        return gradient * (self.inputs > 0)\n",
    "\n",
    "class Softmax(Layer):\n",
    "    \"\"\"Softmax activation layer.\"\"\"\n",
    "\n",
    "    def forward(self, inputs):\n",
    "        \"\"\"Apply Softmax activation.\"\"\"\n",
    "        exp_values = np.exp(inputs - np.max(inputs, axis=1, keepdims=True))\n",
    "        self.probabilities = exp_values / np.sum(exp_values, axis=1, keepdims=True)\n",
    "        return self.probabilities\n",
    "\n",
    "    def backward(self, gradient):\n",
    "        \"\"\"Compute gradient of Softmax.\"\"\"\n",
    "        return gradient  # Gradient calculation is handled by CrossEntropyLoss\n",
    "\n",
    "class Loss:\n",
    "    \"\"\"Base class for loss functions.\"\"\"\n",
    "\n",
    "    def forward(self, predictions, targets):\n",
    "        \"\"\"Compute the loss.\"\"\"\n",
    "        raise NotImplementedError\n",
    "\n",
    "    def backward(self, predictions, targets):\n",
    "        \"\"\"Compute the gradient of the loss.\"\"\"\n",
    "        raise NotImplementedError\n",
    "\n",
    "class CrossEntropyLoss(Loss):\n",
    "    \"\"\"Cross-entropy loss function.\"\"\"\n",
    "\n",
    "    def forward(self, predictions, targets):\n",
    "        \"\"\"Compute cross-entropy loss.\"\"\"\n",
    "        eps = 1e-15  # To avoid log(0) errors\n",
    "        predictions = np.clip(predictions, eps, 1 - eps)\n",
    "        return -np.sum(targets * np.log(predictions)) / predictions.shape[0]\n",
    "\n",
    "    def backward(self, predictions, targets):\n",
    "        \"\"\"Compute gradient of cross-entropy loss.\"\"\"\n",
    "        eps = 1e-15\n",
    "        predictions = np.clip(predictions, eps, 1 - eps)\n",
    "        return (predictions - targets) / predictions.shape[0]\n",
    "\n",
    "class SGD:\n",
    "    \"\"\"Stochastic Gradient Descent optimizer.\"\"\"\n",
    "\n",
    "    def __init__(self, learning_rate):\n",
    "        \"\"\"\n",
    "        Initialize the optimizer.\n",
    "        \"\"\"\n",
    "        self.learning_rate = learning_rate\n",
    "\n",
    "    def step(self, layer):\n",
    "        \"\"\"\n",
    "        Perform a single optimization step.\n",
    "        \"\"\"\n",
    "        layer.weights -= self.learning_rate * layer.gradients['weights']\n",
    "        layer.biases -= self.learning_rate * layer.gradients['biases']\n",
    "\n",
    "class Model:\n",
    "    \"\"\"Neural network model.\"\"\"\n",
    "\n",
    "    def __init__(self):\n",
    "        \"\"\"Initialize the model.\"\"\"\n",
    "        self.layers = []\n",
    "        self.loss = None\n",
    "        self.optimizer = None\n",
    "\n",
    "    def add_layer(self, layer):\n",
    "        \"\"\"Add a layer to the model.\"\"\"\n",
    "        self.layers.append(layer)\n",
    "\n",
    "    def compile(self, loss, optimizer):\n",
    "        \"\"\"Compile the model.\"\"\"\n",
    "        self.loss = loss\n",
    "        self.optimizer = optimizer\n",
    "\n",
    "    def forward(self, inputs):\n",
    "        \"\"\"Perform forward pass through all layers.\"\"\"\n",
    "        for layer in self.layers:\n",
    "            inputs = layer.forward(inputs)\n",
    "        return inputs\n",
    "\n",
    "    def backward(self, gradient):\n",
    "        \"\"\"Perform backward pass through all layers.\"\"\"\n",
    "        for layer in reversed(self.layers):\n",
    "            gradient = layer.backward(gradient)\n",
    "\n",
    "    def train(self, X, y, epochs, batch_size):\n",
    "        \"\"\"Train the model.\"\"\"\n",
    "        for epoch in range(epochs):\n",
    "            epoch_loss = 0\n",
    "            indices = np.arange(X.shape[0])\n",
    "            np.random.shuffle(indices)\n",
    "            X = X[indices]\n",
    "            y = y[indices]\n",
    "\n",
    "            for i in range(0, len(X), batch_size):\n",
    "                X_batch = X[i:i+batch_size]\n",
    "                y_batch = y[i:i+batch_size]\n",
    "\n",
    "                predictions = self.forward(X_batch)\n",
    "                batch_loss = self.loss.forward(predictions, y_batch)\n",
    "                epoch_loss += batch_loss\n",
    "\n",
    "                gradient = self.loss.backward(predictions, y_batch)\n",
    "                self.backward(gradient)\n",
    "\n",
    "                for layer in self.layers:\n",
    "                    if hasattr(layer, 'weights') and hasattr(layer, 'biases'):\n",
    "                        self.optimizer.step(layer)\n",
    "\n",
    "            print(f\"Epoch {epoch+1}/{epochs}, Loss: {epoch_loss/len(X):.4f}\")\n",
    "\n",
    "    def predict(self, X):\n",
    "        \"\"\"Make predictions on new data.\"\"\"\n",
    "        return self.forward(X)\n",
    "\n",
    "    def evaluate(self, X, y):\n",
    "        \"\"\"Evaluate the model.\"\"\"\n",
    "        predictions = self.predict(X)\n",
    "        loss = self.loss.forward(predictions, y)\n",
    "        accuracy = np.mean(np.argmax(predictions, axis=1) == np.argmax(y, axis=1))\n",
    "        return loss, accuracy\n",
    "    \n",
    "    def save(self, filepath):\n",
    "        \"\"\"Save the model weights to a file.\"\"\"\n",
    "        weights = []\n",
    "        for layer in self.layers:\n",
    "            if hasattr(layer, 'weights') and hasattr(layer, 'biases'):\n",
    "                weights.append((layer.weights, layer.biases))\n",
    "        with open(filepath, 'wb') as f:\n",
    "            pickle.dump(weights, f)\n",
    "        print(f\"Weights saved to {filepath}\")\n",
    "\n",
    "    def load(self, filepath):\n",
    "        \"\"\"Load the model weights from a file.\"\"\"\n",
    "        with open(filepath, 'rb') as f:\n",
    "            weights = pickle.load(f)\n",
    "    \n",
    "        weight_index = 0  # Counter for the weights list\n",
    "    \n",
    "        for layer in self.layers:\n",
    "            if hasattr(layer, 'weights') and hasattr(layer, 'biases'):\n",
    "                try:\n",
    "                    layer.weights, layer.biases = weights[weight_index]\n",
    "                    weight_index += 1  # Increment the counter only if weights were loaded\n",
    "                except IndexError:\n",
    "                    print(f\"Error: Mismatch in the number of layers. Could not load weights for layer {layer}.\")\n",
    "                    break\n",
    "        print(f\"Weights loaded from {filepath}\")\n",
    "\n",
    "\n",
    "def one_hot_encode(y, num_classes):\n",
    "    return np.eye(num_classes)[y.astype(int).reshape(-1)]\n",
    "\n",
    "# Load and preprocess data\n",
    "training_data = pd.read_csv('/kaggle/input/digit-recognizer/train.csv')\n",
    "X_train = training_data.iloc[:, 1:].values\n",
    "y_train = training_data.iloc[:, 0].values\n",
    "\n",
    "X_train = X_train.astype('float32') / 255\n",
    "y_train = y_train.astype('int')\n",
    "\n",
    "# One-hot encode the labels\n",
    "y_train = one_hot_encode(y_train, 10)\n",
    "\n",
    "# Initialize and compile the model\n",
    "model = Model()\n",
    "model.add_layer(Linear(784, 128))\n",
    "model.add_layer(ReLU())\n",
    "model.add_layer(Linear(128, 10))\n",
    "model.add_layer(Softmax())\n",
    "\n",
    "loss = CrossEntropyLoss()\n",
    "optimizer = SGD(learning_rate=0.01)\n",
    "model.compile(loss, optimizer)\n",
    "\n",
    "# Train the model\n",
    "model.train(X_train, y_train, epochs=20, batch_size=64)"
   ]
  },
  {
   "cell_type": "code",
   "execution_count": 2,
   "id": "1a9ebca5",
   "metadata": {
    "_cell_guid": "41518511-89e7-44d9-a8fc-35febd769f42",
    "_uuid": "88eed9e8-e620-48af-be1e-cdd1c86e8edb",
    "collapsed": false,
    "execution": {
     "iopub.execute_input": "2024-08-11T11:01:11.260541Z",
     "iopub.status.busy": "2024-08-11T11:01:11.259678Z",
     "iopub.status.idle": "2024-08-11T11:01:14.107849Z",
     "shell.execute_reply": "2024-08-11T11:01:14.106388Z"
    },
    "jupyter": {
     "outputs_hidden": false
    },
    "papermill": {
     "duration": 2.865117,
     "end_time": "2024-08-11T11:01:14.112293",
     "exception": false,
     "start_time": "2024-08-11T11:01:11.247176",
     "status": "completed"
    },
    "tags": []
   },
   "outputs": [
    {
     "name": "stdout",
     "output_type": "stream",
     "text": [
      "(28000,)\n"
     ]
    }
   ],
   "source": [
    "test_data = pd.read_csv('/kaggle/input/digit-recognizer/test.csv')\n",
    "X_test = np.array(test_data)\n",
    "X_test = X_test.astype('float32') / 255\n",
    "y_predicted = model.predict(X_test)\n",
    "y_predicted = np.argmax(y_predicted, axis=1)\n",
    "print(y_predicted.T.shape)"
   ]
  },
  {
   "cell_type": "code",
   "execution_count": 3,
   "id": "72022b68",
   "metadata": {
    "_cell_guid": "aefe044c-1864-49cb-b93a-b1534a8dec5c",
    "_uuid": "01532174-7112-4aab-9b00-fd233d0d407c",
    "collapsed": false,
    "execution": {
     "iopub.execute_input": "2024-08-11T11:01:14.137033Z",
     "iopub.status.busy": "2024-08-11T11:01:14.136044Z",
     "iopub.status.idle": "2024-08-11T11:01:14.225350Z",
     "shell.execute_reply": "2024-08-11T11:01:14.224387Z"
    },
    "jupyter": {
     "outputs_hidden": false
    },
    "papermill": {
     "duration": 0.104601,
     "end_time": "2024-08-11T11:01:14.227986",
     "exception": false,
     "start_time": "2024-08-11T11:01:14.123385",
     "status": "completed"
    },
    "tags": []
   },
   "outputs": [],
   "source": [
    "import csv\n",
    "with open('predictions_pre-trained.csv', 'w') as fileObj:\n",
    "    writerObj = csv.writer(fileObj)\n",
    "    writerObj.writerow(['ImageId','Label'])\n",
    "    for i in range(1,28001):\n",
    "        writerObj.writerow([i, y_predicted[i-1]])"
   ]
  },
  {
   "cell_type": "code",
   "execution_count": 4,
   "id": "1e24555d",
   "metadata": {
    "execution": {
     "iopub.execute_input": "2024-08-11T11:01:14.241002Z",
     "iopub.status.busy": "2024-08-11T11:01:14.240013Z",
     "iopub.status.idle": "2024-08-11T11:01:14.247200Z",
     "shell.execute_reply": "2024-08-11T11:01:14.245945Z"
    },
    "papermill": {
     "duration": 0.016096,
     "end_time": "2024-08-11T11:01:14.249454",
     "exception": false,
     "start_time": "2024-08-11T11:01:14.233358",
     "status": "completed"
    },
    "tags": []
   },
   "outputs": [
    {
     "name": "stdout",
     "output_type": "stream",
     "text": [
      "Weights saved to /kaggle/working/model_weights\n"
     ]
    }
   ],
   "source": [
    "model.save('/kaggle/working/model_weights')"
   ]
  },
  {
   "cell_type": "code",
   "execution_count": 5,
   "id": "dab5f449",
   "metadata": {
    "execution": {
     "iopub.execute_input": "2024-08-11T11:01:14.263126Z",
     "iopub.status.busy": "2024-08-11T11:01:14.261947Z",
     "iopub.status.idle": "2024-08-11T11:01:14.268606Z",
     "shell.execute_reply": "2024-08-11T11:01:14.267250Z"
    },
    "papermill": {
     "duration": 0.016006,
     "end_time": "2024-08-11T11:01:14.270911",
     "exception": false,
     "start_time": "2024-08-11T11:01:14.254905",
     "status": "completed"
    },
    "tags": []
   },
   "outputs": [
    {
     "name": "stdout",
     "output_type": "stream",
     "text": [
      "Weights loaded from /kaggle/working/model_weights\n"
     ]
    }
   ],
   "source": [
    "model.load('/kaggle/working/model_weights')"
   ]
  }
 ],
 "metadata": {
  "kaggle": {
   "accelerator": "none",
   "dataSources": [
    {
     "databundleVersionId": 861823,
     "sourceId": 3004,
     "sourceType": "competition"
    }
   ],
   "dockerImageVersionId": 30746,
   "isGpuEnabled": false,
   "isInternetEnabled": true,
   "language": "python",
   "sourceType": "notebook"
  },
  "kernelspec": {
   "display_name": "Python 3",
   "language": "python",
   "name": "python3"
  },
  "language_info": {
   "codemirror_mode": {
    "name": "ipython",
    "version": 3
   },
   "file_extension": ".py",
   "mimetype": "text/x-python",
   "name": "python",
   "nbconvert_exporter": "python",
   "pygments_lexer": "ipython3",
   "version": "3.10.13"
  },
  "papermill": {
   "default_parameters": {},
   "duration": 46.319582,
   "end_time": "2024-08-11T11:01:14.897685",
   "environment_variables": {},
   "exception": null,
   "input_path": "__notebook__.ipynb",
   "output_path": "__notebook__.ipynb",
   "parameters": {},
   "start_time": "2024-08-11T11:00:28.578103",
   "version": "2.5.0"
  }
 },
 "nbformat": 4,
 "nbformat_minor": 5
}
